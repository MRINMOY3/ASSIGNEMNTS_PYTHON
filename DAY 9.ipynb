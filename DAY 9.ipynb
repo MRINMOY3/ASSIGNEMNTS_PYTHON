{
 "cells": [
  {
   "cell_type": "markdown",
   "id": "bace8734",
   "metadata": {},
   "source": [
    "# Python Tasks – Day 9 \n",
    "\n",
    "# Write a Python program to check whether a number is negative, positive or zero. \n",
    "\n",
    "# Write a Python program to check whether a number is divisible by 5 and 11 or not. \n",
    "\n",
    "# Write a Python program to check whether a year is leap-year or not. \n",
    "\n",
    "# Write a Python program to check whether a character is alphabet or not. \n",
    "\n",
    "# Write a Python program to input any alphabet and check whether it is vowel or consonant. \n",
    "\n",
    "# Write a Python program to input any character and check whether it is alphabet, digit or special character. \n",
    "\n",
    "# Write a Python program to check whether a character is uppercase or lowercase alphabet. \n",
    "\n",
    "# Write a Python program to input week number and print weekday. \n",
    "\n",
    "# Write a Python program to input angles of a triangle and check whether triangle is valid or not. \n",
    "\n",
    "# Write a Python program to input all sides of a triangle and check whether triangle is valid or not. \n",
    "\n",
    "# Write a Python program to check whether the triangle is equilateral, isosceles or scalene triangle. \n",
    "\n",
    "# Write a Python program to input marks of five subjects Physics, Chemistry, Biology, Mathematics and Computer. Calculate percentage and grade according to following:  \n",
    "\n",
    "#                    Percentage >= 90%: Grade A \n",
    "\n",
    "#                    Percentage >= 80%: Grade B  \n",
    "\n",
    "#                    Percentage >= 70%: Grade C  \n",
    "\n",
    "#                                Percentage >= 60%: Grade D  \n",
    "\n",
    "#                                Percentage >= 40%: Grade E \n",
    "\n",
    "#                                Percentage < 40%: Grade F \n",
    "\n",
    "# Write a Python program to input basic salary of an employee and calculate its Gross salary according to following:  \n",
    "\n",
    "#                 Basic Salary <= 10000: HRA = 20%, DA = 80%  \n",
    "\n",
    "#                 Basic Salary <= 20000: HRA = 25%, DA = 90%  \n",
    "\n",
    "#                 Basic Salary > 20000: HRA = 30%, DA = 95% \n",
    "\n",
    "# Write a Python Program to input electricity unit charges and calculate total electricity bill according to the given condition:  \n",
    "\n",
    "# For first 50 units Rs. 0.50/unit \n",
    "# For next 100 units Rs. 0.75/unit \n",
    "# For next 100 units Rs. 1.20/unit \n",
    "# For unit above 250 Rs. 1.50/unit \n",
    "# An additional surcharge of 20% is added to the bill \n",
    "\n",
    " "
   ]
  },
  {
   "cell_type": "code",
   "execution_count": 1,
   "id": "2d89c2b6",
   "metadata": {},
   "outputs": [
    {
     "name": "stdout",
     "output_type": "stream",
     "text": [
      "Enter a number 12\n",
      "12 is POSITIVE\n"
     ]
    }
   ],
   "source": [
    "a=int(input(\"Enter a number \"))\n",
    "if(a>0):\n",
    "    print(f\"{a} is POSITIVE\")\n",
    "elif(a<0):\n",
    "    print(f\"{a} is NEGATIVE\")\n",
    "else:\n",
    "    print(f\"{a} = 0 is Zero\")"
   ]
  },
  {
   "cell_type": "code",
   "execution_count": 2,
   "id": "00a7a073",
   "metadata": {},
   "outputs": [
    {
     "name": "stdout",
     "output_type": "stream",
     "text": [
      "Enter a number: 55\n",
      "Divisible by 5 and 11\n",
      "-----------------------\n"
     ]
    }
   ],
   "source": [
    "number = int(input(\"Enter a number: \"))\n",
    "\n",
    "if number % 5 == 0 and number % 11 == 0:\n",
    "    print(\"Divisible by 5 and 11\")\n",
    "else:\n",
    "    print(\"Not divisible by 5 and 11\")\n",
    "\n",
    "print(\"-----------------------\")\n"
   ]
  },
  {
   "cell_type": "code",
   "execution_count": 3,
   "id": "a2bde647",
   "metadata": {},
   "outputs": [
    {
     "name": "stdout",
     "output_type": "stream",
     "text": [
      "Enter a year: 2024\n",
      "Leap year\n",
      "-----------------------\n"
     ]
    }
   ],
   "source": [
    "year = int(input(\"Enter a year: \"))\n",
    "\n",
    "if year % 4 == 0 and (year % 100 != 0 or year % 400 == 0):\n",
    "    print(\"Leap year\")\n",
    "else:\n",
    "    print(\"Not a leap year\")\n",
    "\n",
    "print(\"-----------------------\")\n"
   ]
  },
  {
   "cell_type": "code",
   "execution_count": 4,
   "id": "010c668c",
   "metadata": {},
   "outputs": [
    {
     "name": "stdout",
     "output_type": "stream",
     "text": [
      "Enter a character: !!\n",
      "Not an alphabet\n",
      "-----------------------\n"
     ]
    }
   ],
   "source": [
    "character = input(\"Enter a character: \")\n",
    "\n",
    "if character.isalpha():\n",
    "    print(\"Alphabet\")\n",
    "else:\n",
    "    print(\"Not an alphabet\")\n",
    "\n",
    "print(\"-----------------------\")\n"
   ]
  },
  {
   "cell_type": "code",
   "execution_count": 5,
   "id": "e973a209",
   "metadata": {},
   "outputs": [
    {
     "name": "stdout",
     "output_type": "stream",
     "text": [
      "Enter an alphabet: a\n",
      "Vowel\n",
      "-----------------------\n"
     ]
    }
   ],
   "source": [
    "alphabet = input(\"Enter an alphabet: \").lower()\n",
    "\n",
    "if alphabet in ['a', 'e', 'i', 'o', 'u']:\n",
    "    print(\"Vowel\")\n",
    "else:\n",
    "    print(\"Consonant\")\n",
    "\n",
    "print(\"-----------------------\")\n"
   ]
  },
  {
   "cell_type": "code",
   "execution_count": 6,
   "id": "3ec7340e",
   "metadata": {},
   "outputs": [
    {
     "name": "stdout",
     "output_type": "stream",
     "text": [
      "Enter a character: 12\n",
      "Digit\n",
      "-----------------------\n"
     ]
    }
   ],
   "source": [
    "character = input(\"Enter a character: \")\n",
    "\n",
    "if character.isalpha():\n",
    "    print(\"Alphabet\")\n",
    "elif character.isdigit():\n",
    "    print(\"Digit\")\n",
    "else:\n",
    "    print(\"Special character\")\n",
    "\n",
    "print(\"-----------------------\")\n"
   ]
  },
  {
   "cell_type": "code",
   "execution_count": 8,
   "id": "0f5d6788",
   "metadata": {},
   "outputs": [
    {
     "name": "stdout",
     "output_type": "stream",
     "text": [
      "Enter a character: a\n",
      "Lowercase alphabet\n",
      "-----------------------\n"
     ]
    }
   ],
   "source": [
    "character = input(\"Enter a character: \")\n",
    "\n",
    "if character.isupper():\n",
    "    print(\"Uppercase alphabet\")\n",
    "elif character.islower():\n",
    "    print(\"Lowercase alphabet\")\n",
    "else:\n",
    "    print(\"Not an alphabet\")\n",
    "\n",
    "print(\"-----------------------\")\n"
   ]
  },
  {
   "cell_type": "code",
   "execution_count": 9,
   "id": "23b1e584",
   "metadata": {},
   "outputs": [
    {
     "name": "stdout",
     "output_type": "stream",
     "text": [
      "Enter the week number (1-7): 6\n",
      "Saturday\n",
      "-----------------------\n"
     ]
    }
   ],
   "source": [
    "week_number = int(input(\"Enter the week number (1-7): \"))\n",
    "\n",
    "if week_number == 1:\n",
    "    print(\"Monday\")\n",
    "elif week_number == 2:\n",
    "    print(\"Tuesday\")\n",
    "elif week_number == 3:\n",
    "    print(\"Wednesday\")\n",
    "elif week_number == 4:\n",
    "    print(\"Thursday\")\n",
    "elif week_number == 5:\n",
    "    print(\"Friday\")\n",
    "elif week_number == 6:\n",
    "    print(\"Saturday\")\n",
    "elif week_number == 7:\n",
    "    print(\"Sunday\")\n",
    "else:\n",
    "    print(\"Invalid week number\")\n",
    "\n",
    "print(\"-----------------------\")\n"
   ]
  },
  {
   "cell_type": "code",
   "execution_count": 11,
   "id": "c73a3f22",
   "metadata": {},
   "outputs": [
    {
     "name": "stdout",
     "output_type": "stream",
     "text": [
      "Enter the first angle: 30\n",
      "Enter the second angle: 20\n",
      "Enter the third angle: 130\n",
      "Valid triangle\n",
      "-----------------------\n"
     ]
    }
   ],
   "source": [
    "angle1 = float(input(\"Enter the first angle: \"))\n",
    "angle2 = float(input(\"Enter the second angle: \"))\n",
    "angle3 = float(input(\"Enter the third angle: \"))\n",
    "\n",
    "if angle1 + angle2 + angle3 == 180:\n",
    "    print(\"Valid triangle\")\n",
    "else:\n",
    "    print(\"Invalid triangle\")\n",
    "\n",
    "print(\"-----------------------\")\n"
   ]
  },
  {
   "cell_type": "code",
   "execution_count": 12,
   "id": "2117f715",
   "metadata": {},
   "outputs": [
    {
     "name": "stdout",
     "output_type": "stream",
     "text": [
      "Enter the length of side 1: 12\n",
      "Enter the length of side 2: 13\n",
      "Enter the length of side 3: 15\n",
      "Scalene triangle\n",
      "-----------------------\n"
     ]
    }
   ],
   "source": [
    "side1 = float(input(\"Enter the length of side 1: \"))\n",
    "side2 = float(input(\"Enter the length of side 2: \"))\n",
    "side3 = float(input(\"Enter the length of side 3: \"))\n",
    "\n",
    "if side1 == side2 == side3:\n",
    "    print(\"Equilateral triangle\")\n",
    "elif side1 == side2 or side2 == side3 or side1 == side3:\n",
    "    print(\"Isosceles triangle\")\n",
    "else:\n",
    "    print(\"Scalene triangle\")\n",
    "\n",
    "print(\"-----------------------\")\n"
   ]
  },
  {
   "cell_type": "code",
   "execution_count": 13,
   "id": "a8b17068",
   "metadata": {},
   "outputs": [
    {
     "name": "stdout",
     "output_type": "stream",
     "text": [
      "Enter marks obtained in Physics: 100\n",
      "Enter marks obtained in Chemistry: 100\n",
      "Enter marks obtained in Biology: 100\n",
      "Enter marks obtained in Mathematics: 100\n",
      "Enter marks obtained in Computer: 100\n",
      "Percentage: 100.0\n",
      "Grade: A\n",
      "-----------------------\n"
     ]
    }
   ],
   "source": [
    "physics = float(input(\"Enter marks obtained in Physics: \"))\n",
    "chemistry = float(input(\"Enter marks obtained in Chemistry: \"))\n",
    "biology = float(input(\"Enter marks obtained in Biology: \"))\n",
    "mathematics = float(input(\"Enter marks obtained in Mathematics: \"))\n",
    "computer = float(input(\"Enter marks obtained in Computer: \"))\n",
    "\n",
    "total_marks = 500\n",
    "obtained_marks = physics + chemistry + biology + mathematics + computer\n",
    "percentage = (obtained_marks / total_marks) * 100\n",
    "\n",
    "if percentage >= 90:\n",
    "    grade = \"A\"\n",
    "elif percentage >= 80:\n",
    "    grade = \"B\"\n",
    "elif percentage >= 70:\n",
    "    grade = \"C\"\n",
    "elif percentage >= 60:\n",
    "    grade = \"D\"\n",
    "elif percentage >= 40:\n",
    "    grade = \"E\"\n",
    "else:\n",
    "    grade = \"F\"\n",
    "\n",
    "print(\"Percentage:\", percentage)\n",
    "print(\"Grade:\", grade)\n",
    "\n",
    "print(\"-----------------------\")\n"
   ]
  },
  {
   "cell_type": "code",
   "execution_count": 14,
   "id": "1df4db52",
   "metadata": {},
   "outputs": [
    {
     "name": "stdout",
     "output_type": "stream",
     "text": [
      "Enter the basic salary: 3220000\n",
      "Gross Salary: 7245000.0\n",
      "-----------------------\n"
     ]
    }
   ],
   "source": [
    "basic_salary = float(input(\"Enter the basic salary: \"))\n",
    "\n",
    "if basic_salary <= 10000:\n",
    "    hra = 0.2 * basic_salary\n",
    "    da = 0.8 * basic_salary\n",
    "elif basic_salary <= 20000:\n",
    "    hra = 0.25 * basic_salary\n",
    "    da = 0.9 * basic_salary\n",
    "else:\n",
    "    hra = 0.3 * basic_salary\n",
    "    da = 0.95 * basic_salary\n",
    "\n",
    "gross_salary = basic_salary + hra + da\n",
    "print(\"Gross Salary:\", gross_salary)\n",
    "\n",
    "print(\"-----------------------\")\n"
   ]
  },
  {
   "cell_type": "code",
   "execution_count": 17,
   "id": "00498242",
   "metadata": {},
   "outputs": [
    {
     "name": "stdout",
     "output_type": "stream",
     "text": [
      "Enter the electricity unit charges: 45000\n",
      "44970.0\n"
     ]
    }
   ],
   "source": [
    "unit_charges = float(input(\"Enter the electricity unit charges: \"))\n",
    "\n",
    "if unit_charges <= 50:\n",
    "    bill = unit_charges * 0.5\n",
    "elif unit_charges <= 150:\n",
    "    bill = (50 * 0.5) + ((unit_charges - 50) * 0.75)\n",
    "elif unit_charges <= 250:\n",
    "    bill = (50 * 0.5) + (100 * 0.75) + ((unit_charges - 150) * 1.2)\n",
    "else:\n",
    "    bill = (50 * 0.5) + (100 * 0.75) + (100 * 1.2) + ((unit_charges - 250)) * 1\n",
    "    \n",
    "print(bill)\n"
   ]
  },
  {
   "cell_type": "code",
   "execution_count": null,
   "id": "1d00b49b",
   "metadata": {},
   "outputs": [],
   "source": []
  }
 ],
 "metadata": {
  "kernelspec": {
   "display_name": "Python 3 (ipykernel)",
   "language": "python",
   "name": "python3"
  },
  "language_info": {
   "codemirror_mode": {
    "name": "ipython",
    "version": 3
   },
   "file_extension": ".py",
   "mimetype": "text/x-python",
   "name": "python",
   "nbconvert_exporter": "python",
   "pygments_lexer": "ipython3",
   "version": "3.10.9"
  }
 },
 "nbformat": 4,
 "nbformat_minor": 5
}
