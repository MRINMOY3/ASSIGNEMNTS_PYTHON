{
 "cells": [
  {
   "cell_type": "markdown",
   "id": "18055956",
   "metadata": {},
   "source": [
    "# Python Tasks – Day10 \n",
    "\n",
    "# Python Program to Check Palindrome Number \n",
    "\n",
    "# Python Program to Print all multiples of 3 and 5 in an Interval \n",
    "\n",
    "# Python Program to Find the Factorial of a Number \n",
    "\n",
    "# Python Program to Print the Fibonacci sequence \n",
    "\n",
    "# Python Program to Check Armstrong Number \n",
    "\n",
    " "
   ]
  },
  {
   "cell_type": "code",
   "execution_count": 1,
   "id": "feadd7e4",
   "metadata": {},
   "outputs": [
    {
     "name": "stdout",
     "output_type": "stream",
     "text": [
      "Enter a number 143341\n",
      "[1, 4, 3, 3, 4, 1]\n",
      "6\n",
      "100000\n",
      "40000\n",
      "3000\n",
      "300\n",
      "40\n",
      "1\n",
      "Main Number = 143341\n",
      "The reversed Number = 143341\n",
      "The number is a Palindrome\n"
     ]
    }
   ],
   "source": [
    "a=int(input(\"Enter a number \"))\n",
    "mainnumber=a\n",
    "frr=[]\n",
    "rrr=[]\n",
    "cnt=0\n",
    "while(a>0):\n",
    "    cnt+=1\n",
    "    r=a%10\n",
    "    frr.append(r)\n",
    "    a=a//10\n",
    "\n",
    "i=0\n",
    "b=0\n",
    "sum=0\n",
    "print(frr)\n",
    "print(cnt)\n",
    "a=cnt\n",
    "while(i<cnt):\n",
    "    b=i\n",
    "    print(frr[i]*(10**(cnt-b-1)))\n",
    "    sum+=frr[i]*(10**(cnt-b-1))\n",
    "    i+=1\n",
    "    b=a-1\n",
    "\n",
    "\n",
    "print(f\"Main Number = {mainnumber}\")\n",
    "print(f\"The reversed Number = {sum}\")\n",
    "\n",
    "if(mainnumber==sum):\n",
    "    print(\"The number is a Palindrome\")\n",
    "else:\n",
    "    print(\"The number is not a Palindrome\")"
   ]
  },
  {
   "cell_type": "code",
   "execution_count": 2,
   "id": "ae9130eb",
   "metadata": {},
   "outputs": [
    {
     "name": "stdout",
     "output_type": "stream",
     "text": [
      "Enter the starting number of the interval: 10\n",
      "Enter the ending number of the interval: 100\n",
      "Multiples of 3 and 5 within the interval:\n",
      "10\n",
      "12\n",
      "15\n",
      "18\n",
      "20\n",
      "21\n",
      "24\n",
      "25\n",
      "27\n",
      "30\n",
      "33\n",
      "35\n",
      "36\n",
      "39\n",
      "40\n",
      "42\n",
      "45\n",
      "48\n",
      "50\n",
      "51\n",
      "54\n",
      "55\n",
      "57\n",
      "60\n",
      "63\n",
      "65\n",
      "66\n",
      "69\n",
      "70\n",
      "72\n",
      "75\n",
      "78\n",
      "80\n",
      "81\n",
      "84\n",
      "85\n",
      "87\n",
      "90\n",
      "93\n",
      "95\n",
      "96\n",
      "99\n",
      "100\n"
     ]
    }
   ],
   "source": [
    "def print_multiples(start, end):\n",
    "    for num in range(start, end + 1):\n",
    "        if num % 3 == 0 or num % 5 == 0:\n",
    "            print(num)\n",
    "\n",
    "start_num = int(input(\"Enter the starting number of the interval: \"))\n",
    "end_num = int(input(\"Enter the ending number of the interval: \"))\n",
    "\n",
    "print(\"Multiples of 3 and 5 within the interval:\")\n",
    "print_multiples(start_num, end_num)\n"
   ]
  },
  {
   "cell_type": "code",
   "execution_count": 3,
   "id": "2ce51112",
   "metadata": {},
   "outputs": [
    {
     "name": "stdout",
     "output_type": "stream",
     "text": [
      "Enter a number: 5\n",
      "The factorial of 5 is: 120\n"
     ]
    }
   ],
   "source": [
    "def factorial(n):\n",
    "    if n == 0 or n == 1:\n",
    "        return 1\n",
    "    else:\n",
    "        return n * factorial(n - 1)\n",
    "\n",
    "num = int(input(\"Enter a number: \"))\n",
    "\n",
    "if num < 0:\n",
    "    print(\"Factorial is not defined for negative numbers.\")\n",
    "else:\n",
    "    result = factorial(num)\n",
    "    print(f\"The factorial of {num} is: {result}\")\n"
   ]
  },
  {
   "cell_type": "code",
   "execution_count": 4,
   "id": "9964523d",
   "metadata": {},
   "outputs": [
    {
     "name": "stdout",
     "output_type": "stream",
     "text": [
      "Enter the number of terms in the Fibonacci sequence: 12\n",
      "Fibonacci sequence:\n",
      "0 1 1 2 3 5 8 13 21 34 55 89 "
     ]
    }
   ],
   "source": [
    "def fibonacci(n):\n",
    "    sequence = []\n",
    "    \n",
    "    if n == 0:\n",
    "        return sequence\n",
    "    \n",
    "    # First two numbers of the Fibonacci sequence\n",
    "    sequence.append(0)\n",
    "    if n == 1:\n",
    "        return sequence\n",
    "    \n",
    "    sequence.append(1)\n",
    "    \n",
    "    # Generate the remaining Fibonacci numbers\n",
    "    for i in range(2, n):\n",
    "        next_num = sequence[i - 1] + sequence[i - 2]\n",
    "        sequence.append(next_num)\n",
    "    \n",
    "    return sequence\n",
    "\n",
    "\n",
    "num_terms = int(input(\"Enter the number of terms in the Fibonacci sequence: \"))\n",
    "\n",
    "fib_sequence = fibonacci(num_terms)\n",
    "\n",
    "print(\"Fibonacci sequence:\")\n",
    "for num in fib_sequence:\n",
    "    print(num, end=\" \")\n"
   ]
  },
  {
   "cell_type": "code",
   "execution_count": 5,
   "id": "571ab0f0",
   "metadata": {},
   "outputs": [
    {
     "name": "stdout",
     "output_type": "stream",
     "text": [
      "Enter a number: 123\n",
      "123 is not an Armstrong number.\n"
     ]
    }
   ],
   "source": [
    "def is_armstrong(number):\n",
    "    # Convert the number to a string to access individual digits\n",
    "    num_str = str(number)\n",
    "    \n",
    "    # Calculate the number of digits in the number\n",
    "    num_digits = len(num_str)\n",
    "    \n",
    "    # Initialize the sum of the Armstrong number\n",
    "    armstrong_sum = 0\n",
    "    \n",
    "    # Calculate the sum of the cubes of each digit\n",
    "    for digit in num_str:\n",
    "        armstrong_sum += int(digit) ** num_digits\n",
    "    \n",
    "    # Check if the sum is equal to the original number\n",
    "    if armstrong_sum == number:\n",
    "        return True\n",
    "    else:\n",
    "        return False\n",
    "\n",
    "\n",
    "num = int(input(\"Enter a number: \"))\n",
    "\n",
    "if is_armstrong(num):\n",
    "    print(f\"{num} is an Armstrong number.\")\n",
    "else:\n",
    "    print(f\"{num} is not an Armstrong number.\")\n"
   ]
  },
  {
   "cell_type": "code",
   "execution_count": null,
   "id": "5276e680",
   "metadata": {},
   "outputs": [],
   "source": []
  }
 ],
 "metadata": {
  "kernelspec": {
   "display_name": "Python 3 (ipykernel)",
   "language": "python",
   "name": "python3"
  },
  "language_info": {
   "codemirror_mode": {
    "name": "ipython",
    "version": 3
   },
   "file_extension": ".py",
   "mimetype": "text/x-python",
   "name": "python",
   "nbconvert_exporter": "python",
   "pygments_lexer": "ipython3",
   "version": "3.10.9"
  }
 },
 "nbformat": 4,
 "nbformat_minor": 5
}
